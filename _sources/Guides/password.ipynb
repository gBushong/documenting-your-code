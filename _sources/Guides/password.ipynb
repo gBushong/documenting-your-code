{
 "cells": [
  {
   "cell_type": "markdown",
   "id": "9b583fc2",
   "metadata": {},
   "source": [
    "# Guide to `password.py` module"
   ]
  },
  {
   "cell_type": "code",
   "execution_count": 1,
   "id": "85b64e79",
   "metadata": {},
   "outputs": [],
   "source": [
    "from randomly.password import generate_password"
   ]
  },
  {
   "cell_type": "markdown",
   "id": "52c942db",
   "metadata": {},
   "source": [
    "This function accepts arguments to build a random password using a given length, with or without punctuation and excluded characters."
   ]
  },
  {
   "cell_type": "code",
   "execution_count": 4,
   "id": "a9ced53f",
   "metadata": {},
   "outputs": [
    {
     "data": {
      "text/plain": [
       "'7z7GQ257'"
      ]
     },
     "execution_count": 4,
     "metadata": {},
     "output_type": "execute_result"
    }
   ],
   "source": [
    "password = generate_password(8, False)\n",
    "password"
   ]
  },
  {
   "cell_type": "code",
   "execution_count": null,
   "id": "9a430d4c",
   "metadata": {},
   "outputs": [],
   "source": []
  }
 ],
 "metadata": {
  "kernelspec": {
   "display_name": "Python 3 (ipykernel)",
   "language": "python",
   "name": "python3"
  },
  "language_info": {
   "codemirror_mode": {
    "name": "ipython",
    "version": 3
   },
   "file_extension": ".py",
   "mimetype": "text/x-python",
   "name": "python",
   "nbconvert_exporter": "python",
   "pygments_lexer": "ipython3",
   "version": "3.9.7"
  }
 },
 "nbformat": 4,
 "nbformat_minor": 5
}
